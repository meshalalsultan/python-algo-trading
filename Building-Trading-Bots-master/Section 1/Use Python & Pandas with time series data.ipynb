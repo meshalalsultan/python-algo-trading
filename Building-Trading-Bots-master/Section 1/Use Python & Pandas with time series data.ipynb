{
 "cells": [
  {
   "cell_type": "markdown",
   "metadata": {},
   "source": [
    "## import modules"
   ]
  },
  {
   "cell_type": "code",
   "execution_count": 46,
   "metadata": {
    "collapsed": true
   },
   "outputs": [],
   "source": [
    "import pandas as pd"
   ]
  },
  {
   "cell_type": "markdown",
   "metadata": {},
   "source": [
    "## Read in the data"
   ]
  },
  {
   "cell_type": "code",
   "execution_count": 47,
   "metadata": {
    "collapsed": true
   },
   "outputs": [],
   "source": [
    "data_frame = pd.read_csv(\"stock/WIKI-FB.csv\")"
   ]
  },
  {
   "cell_type": "code",
   "execution_count": 48,
   "metadata": {},
   "outputs": [
    {
     "data": {
      "text/plain": [
       "pandas.core.frame.DataFrame"
      ]
     },
     "execution_count": 48,
     "metadata": {},
     "output_type": "execute_result"
    }
   ],
   "source": [
    "type(data_frame)"
   ]
  },
  {
   "cell_type": "markdown",
   "metadata": {},
   "source": [
    "## Explore the data"
   ]
  },
  {
   "cell_type": "code",
   "execution_count": 49,
   "metadata": {},
   "outputs": [
    {
     "data": {
      "text/html": [
       "<div>\n",
       "<style>\n",
       "    .dataframe thead tr:only-child th {\n",
       "        text-align: right;\n",
       "    }\n",
       "\n",
       "    .dataframe thead th {\n",
       "        text-align: left;\n",
       "    }\n",
       "\n",
       "    .dataframe tbody tr th {\n",
       "        vertical-align: top;\n",
       "    }\n",
       "</style>\n",
       "<table border=\"1\" class=\"dataframe\">\n",
       "  <thead>\n",
       "    <tr style=\"text-align: right;\">\n",
       "      <th></th>\n",
       "      <th>Date</th>\n",
       "      <th>Open</th>\n",
       "      <th>High</th>\n",
       "      <th>Low</th>\n",
       "      <th>Close</th>\n",
       "      <th>Volume</th>\n",
       "      <th>Ex-Dividend</th>\n",
       "      <th>Split Ratio</th>\n",
       "      <th>Adj. Open</th>\n",
       "      <th>Adj. High</th>\n",
       "      <th>Adj. Low</th>\n",
       "      <th>Adj. Close</th>\n",
       "      <th>Adj. Volume</th>\n",
       "    </tr>\n",
       "  </thead>\n",
       "  <tbody>\n",
       "    <tr>\n",
       "      <th>0</th>\n",
       "      <td>2017-10-27</td>\n",
       "      <td>174.15</td>\n",
       "      <td>178.210</td>\n",
       "      <td>173.90</td>\n",
       "      <td>177.88</td>\n",
       "      <td>29867490.0</td>\n",
       "      <td>0.0</td>\n",
       "      <td>1.0</td>\n",
       "      <td>174.15</td>\n",
       "      <td>178.210</td>\n",
       "      <td>173.90</td>\n",
       "      <td>177.88</td>\n",
       "      <td>29867490.0</td>\n",
       "    </tr>\n",
       "    <tr>\n",
       "      <th>1</th>\n",
       "      <td>2017-10-26</td>\n",
       "      <td>171.38</td>\n",
       "      <td>172.285</td>\n",
       "      <td>170.39</td>\n",
       "      <td>170.63</td>\n",
       "      <td>10932929.0</td>\n",
       "      <td>0.0</td>\n",
       "      <td>1.0</td>\n",
       "      <td>171.38</td>\n",
       "      <td>172.285</td>\n",
       "      <td>170.39</td>\n",
       "      <td>170.63</td>\n",
       "      <td>10932929.0</td>\n",
       "    </tr>\n",
       "    <tr>\n",
       "      <th>2</th>\n",
       "      <td>2017-10-25</td>\n",
       "      <td>171.90</td>\n",
       "      <td>172.250</td>\n",
       "      <td>168.89</td>\n",
       "      <td>170.60</td>\n",
       "      <td>15095603.0</td>\n",
       "      <td>0.0</td>\n",
       "      <td>1.0</td>\n",
       "      <td>171.90</td>\n",
       "      <td>172.250</td>\n",
       "      <td>168.89</td>\n",
       "      <td>170.60</td>\n",
       "      <td>15095603.0</td>\n",
       "    </tr>\n",
       "    <tr>\n",
       "      <th>3</th>\n",
       "      <td>2017-10-24</td>\n",
       "      <td>172.30</td>\n",
       "      <td>173.240</td>\n",
       "      <td>171.50</td>\n",
       "      <td>171.80</td>\n",
       "      <td>11629341.0</td>\n",
       "      <td>0.0</td>\n",
       "      <td>1.0</td>\n",
       "      <td>172.30</td>\n",
       "      <td>173.240</td>\n",
       "      <td>171.50</td>\n",
       "      <td>171.80</td>\n",
       "      <td>11629341.0</td>\n",
       "    </tr>\n",
       "    <tr>\n",
       "      <th>4</th>\n",
       "      <td>2017-10-23</td>\n",
       "      <td>175.20</td>\n",
       "      <td>175.340</td>\n",
       "      <td>171.25</td>\n",
       "      <td>171.27</td>\n",
       "      <td>13622072.0</td>\n",
       "      <td>0.0</td>\n",
       "      <td>1.0</td>\n",
       "      <td>175.20</td>\n",
       "      <td>175.340</td>\n",
       "      <td>171.25</td>\n",
       "      <td>171.27</td>\n",
       "      <td>13622072.0</td>\n",
       "    </tr>\n",
       "  </tbody>\n",
       "</table>\n",
       "</div>"
      ],
      "text/plain": [
       "         Date    Open     High     Low   Close      Volume  Ex-Dividend  \\\n",
       "0  2017-10-27  174.15  178.210  173.90  177.88  29867490.0          0.0   \n",
       "1  2017-10-26  171.38  172.285  170.39  170.63  10932929.0          0.0   \n",
       "2  2017-10-25  171.90  172.250  168.89  170.60  15095603.0          0.0   \n",
       "3  2017-10-24  172.30  173.240  171.50  171.80  11629341.0          0.0   \n",
       "4  2017-10-23  175.20  175.340  171.25  171.27  13622072.0          0.0   \n",
       "\n",
       "   Split Ratio  Adj. Open  Adj. High  Adj. Low  Adj. Close  Adj. Volume  \n",
       "0          1.0     174.15    178.210    173.90      177.88   29867490.0  \n",
       "1          1.0     171.38    172.285    170.39      170.63   10932929.0  \n",
       "2          1.0     171.90    172.250    168.89      170.60   15095603.0  \n",
       "3          1.0     172.30    173.240    171.50      171.80   11629341.0  \n",
       "4          1.0     175.20    175.340    171.25      171.27   13622072.0  "
      ]
     },
     "execution_count": 49,
     "metadata": {},
     "output_type": "execute_result"
    }
   ],
   "source": [
    "data_frame.head()"
   ]
  },
  {
   "cell_type": "code",
   "execution_count": 50,
   "metadata": {},
   "outputs": [
    {
     "data": {
      "text/plain": [
       "RangeIndex(start=0, stop=1371, step=1)"
      ]
     },
     "execution_count": 50,
     "metadata": {},
     "output_type": "execute_result"
    }
   ],
   "source": [
    "data_frame.index"
   ]
  },
  {
   "cell_type": "code",
   "execution_count": 51,
   "metadata": {},
   "outputs": [
    {
     "data": {
      "text/html": [
       "<div>\n",
       "<style>\n",
       "    .dataframe thead tr:only-child th {\n",
       "        text-align: right;\n",
       "    }\n",
       "\n",
       "    .dataframe thead th {\n",
       "        text-align: left;\n",
       "    }\n",
       "\n",
       "    .dataframe tbody tr th {\n",
       "        vertical-align: top;\n",
       "    }\n",
       "</style>\n",
       "<table border=\"1\" class=\"dataframe\">\n",
       "  <thead>\n",
       "    <tr style=\"text-align: right;\">\n",
       "      <th></th>\n",
       "      <th>Date</th>\n",
       "      <th>Open</th>\n",
       "      <th>High</th>\n",
       "      <th>Low</th>\n",
       "      <th>Close</th>\n",
       "      <th>Volume</th>\n",
       "      <th>Ex-Dividend</th>\n",
       "      <th>Split Ratio</th>\n",
       "      <th>Adj. Open</th>\n",
       "      <th>Adj. High</th>\n",
       "      <th>Adj. Low</th>\n",
       "      <th>Adj. Close</th>\n",
       "      <th>Adj. Volume</th>\n",
       "    </tr>\n",
       "  </thead>\n",
       "  <tbody>\n",
       "    <tr>\n",
       "      <th>45</th>\n",
       "      <td>2017-08-24</td>\n",
       "      <td>168.88</td>\n",
       "      <td>169.29</td>\n",
       "      <td>166.41</td>\n",
       "      <td>167.74</td>\n",
       "      <td>13552865.0</td>\n",
       "      <td>0.0</td>\n",
       "      <td>1.0</td>\n",
       "      <td>168.88</td>\n",
       "      <td>169.29</td>\n",
       "      <td>166.41</td>\n",
       "      <td>167.74</td>\n",
       "      <td>13552865.0</td>\n",
       "    </tr>\n",
       "    <tr>\n",
       "      <th>46</th>\n",
       "      <td>2017-08-23</td>\n",
       "      <td>168.84</td>\n",
       "      <td>169.36</td>\n",
       "      <td>168.20</td>\n",
       "      <td>168.71</td>\n",
       "      <td>9756817.0</td>\n",
       "      <td>0.0</td>\n",
       "      <td>1.0</td>\n",
       "      <td>168.84</td>\n",
       "      <td>169.36</td>\n",
       "      <td>168.20</td>\n",
       "      <td>168.71</td>\n",
       "      <td>9756817.0</td>\n",
       "    </tr>\n",
       "    <tr>\n",
       "      <th>47</th>\n",
       "      <td>2017-08-22</td>\n",
       "      <td>168.28</td>\n",
       "      <td>169.87</td>\n",
       "      <td>167.15</td>\n",
       "      <td>169.64</td>\n",
       "      <td>11333260.0</td>\n",
       "      <td>0.0</td>\n",
       "      <td>1.0</td>\n",
       "      <td>168.28</td>\n",
       "      <td>169.87</td>\n",
       "      <td>167.15</td>\n",
       "      <td>169.64</td>\n",
       "      <td>11333260.0</td>\n",
       "    </tr>\n",
       "    <tr>\n",
       "      <th>48</th>\n",
       "      <td>2017-08-21</td>\n",
       "      <td>167.16</td>\n",
       "      <td>168.00</td>\n",
       "      <td>165.82</td>\n",
       "      <td>167.78</td>\n",
       "      <td>11880823.0</td>\n",
       "      <td>0.0</td>\n",
       "      <td>1.0</td>\n",
       "      <td>167.16</td>\n",
       "      <td>168.00</td>\n",
       "      <td>165.82</td>\n",
       "      <td>167.78</td>\n",
       "      <td>11880823.0</td>\n",
       "    </tr>\n",
       "    <tr>\n",
       "      <th>49</th>\n",
       "      <td>2017-08-18</td>\n",
       "      <td>166.84</td>\n",
       "      <td>168.67</td>\n",
       "      <td>166.21</td>\n",
       "      <td>167.41</td>\n",
       "      <td>14933261.0</td>\n",
       "      <td>0.0</td>\n",
       "      <td>1.0</td>\n",
       "      <td>166.84</td>\n",
       "      <td>168.67</td>\n",
       "      <td>166.21</td>\n",
       "      <td>167.41</td>\n",
       "      <td>14933261.0</td>\n",
       "    </tr>\n",
       "    <tr>\n",
       "      <th>50</th>\n",
       "      <td>2017-08-17</td>\n",
       "      <td>169.34</td>\n",
       "      <td>169.86</td>\n",
       "      <td>166.85</td>\n",
       "      <td>166.91</td>\n",
       "      <td>16791591.0</td>\n",
       "      <td>0.0</td>\n",
       "      <td>1.0</td>\n",
       "      <td>169.34</td>\n",
       "      <td>169.86</td>\n",
       "      <td>166.85</td>\n",
       "      <td>166.91</td>\n",
       "      <td>16791591.0</td>\n",
       "    </tr>\n",
       "  </tbody>\n",
       "</table>\n",
       "</div>"
      ],
      "text/plain": [
       "          Date    Open    High     Low   Close      Volume  Ex-Dividend  \\\n",
       "45  2017-08-24  168.88  169.29  166.41  167.74  13552865.0          0.0   \n",
       "46  2017-08-23  168.84  169.36  168.20  168.71   9756817.0          0.0   \n",
       "47  2017-08-22  168.28  169.87  167.15  169.64  11333260.0          0.0   \n",
       "48  2017-08-21  167.16  168.00  165.82  167.78  11880823.0          0.0   \n",
       "49  2017-08-18  166.84  168.67  166.21  167.41  14933261.0          0.0   \n",
       "50  2017-08-17  169.34  169.86  166.85  166.91  16791591.0          0.0   \n",
       "\n",
       "    Split Ratio  Adj. Open  Adj. High  Adj. Low  Adj. Close  Adj. Volume  \n",
       "45          1.0     168.88     169.29    166.41      167.74   13552865.0  \n",
       "46          1.0     168.84     169.36    168.20      168.71    9756817.0  \n",
       "47          1.0     168.28     169.87    167.15      169.64   11333260.0  \n",
       "48          1.0     167.16     168.00    165.82      167.78   11880823.0  \n",
       "49          1.0     166.84     168.67    166.21      167.41   14933261.0  \n",
       "50          1.0     169.34     169.86    166.85      166.91   16791591.0  "
      ]
     },
     "execution_count": 51,
     "metadata": {},
     "output_type": "execute_result"
    }
   ],
   "source": [
    "data_frame[45:51]"
   ]
  },
  {
   "cell_type": "code",
   "execution_count": 52,
   "metadata": {},
   "outputs": [
    {
     "data": {
      "text/plain": [
       "178.21000000000001"
      ]
     },
     "execution_count": 52,
     "metadata": {},
     "output_type": "execute_result"
    }
   ],
   "source": [
    "data_frame['High'].max()"
   ]
  },
  {
   "cell_type": "code",
   "execution_count": 53,
   "metadata": {},
   "outputs": [
    {
     "data": {
      "text/plain": [
       "17.550000000000001"
      ]
     },
     "execution_count": 53,
     "metadata": {},
     "output_type": "execute_result"
    }
   ],
   "source": [
    "data_frame['Low'].min()"
   ]
  },
  {
   "cell_type": "code",
   "execution_count": 54,
   "metadata": {},
   "outputs": [
    {
     "data": {
      "text/plain": [
       "High    83.694619\n",
       "Low     81.929668\n",
       "dtype: float64"
      ]
     },
     "execution_count": 54,
     "metadata": {},
     "output_type": "execute_result"
    }
   ],
   "source": [
    "data_frame[['High', 'Low']].mean()"
   ]
  },
  {
   "cell_type": "markdown",
   "metadata": {},
   "source": [
    "## Visualizing the data"
   ]
  },
  {
   "cell_type": "code",
   "execution_count": 55,
   "metadata": {
    "collapsed": true
   },
   "outputs": [],
   "source": [
    "import matplotlib.pyplot as plt"
   ]
  },
  {
   "cell_type": "code",
   "execution_count": 56,
   "metadata": {},
   "outputs": [
    {
     "data": {
      "text/plain": [
       "<matplotlib.axes._subplots.AxesSubplot at 0xef4fdcfe48>"
      ]
     },
     "execution_count": 56,
     "metadata": {},
     "output_type": "execute_result"
    }
   ],
   "source": [
    "data_frame['Close'].plot()"
   ]
  },
  {
   "cell_type": "code",
   "execution_count": 57,
   "metadata": {},
   "outputs": [
    {
     "data": {
      "image/png": "[encoded data removed]",
      "text/plain": [
       "<matplotlib.figure.Figure at 0xef4fd89be0>"
      ]
     },
     "metadata": {},
     "output_type": "display_data"
    }
   ],
   "source": [
    "plt.show()"
   ]
  },
  {
   "cell_type": "code",
   "execution_count": 58,
   "metadata": {
    "collapsed": true
   },
   "outputs": [],
   "source": [
    "df_with_date_index = pd.read_csv(\"stock/WIKI-FB.csv\", index_col=\"Date\", parse_dates=True)"
   ]
  },
  {
   "cell_type": "code",
   "execution_count": 59,
   "metadata": {},
   "outputs": [
    {
     "data": {
      "text/plain": [
       "DatetimeIndex(['2017-10-27', '2017-10-26', '2017-10-25', '2017-10-24',\n",
       "               '2017-10-23', '2017-10-20', '2017-10-19', '2017-10-18',\n",
       "               '2017-10-17', '2017-10-16',\n",
       "               ...\n",
       "               '2012-06-01', '2012-05-31', '2012-05-30', '2012-05-29',\n",
       "               '2012-05-25', '2012-05-24', '2012-05-23', '2012-05-22',\n",
       "               '2012-05-21', '2012-05-18'],\n",
       "              dtype='datetime64[ns]', name='Date', length=1371, freq=None)"
      ]
     },
     "execution_count": 59,
     "metadata": {},
     "output_type": "execute_result"
    }
   ],
   "source": [
    "df_with_date_index.index"
   ]
  },
  {
   "cell_type": "code",
   "execution_count": 60,
   "metadata": {},
   "outputs": [
    {
     "data": {
      "text/html": [
       "<div>\n",
       "<style>\n",
       "    .dataframe thead tr:only-child th {\n",
       "        text-align: right;\n",
       "    }\n",
       "\n",
       "    .dataframe thead th {\n",
       "        text-align: left;\n",
       "    }\n",
       "\n",
       "    .dataframe tbody tr th {\n",
       "        vertical-align: top;\n",
       "    }\n",
       "</style>\n",
       "<table border=\"1\" class=\"dataframe\">\n",
       "  <thead>\n",
       "    <tr style=\"text-align: right;\">\n",
       "      <th></th>\n",
       "      <th>Open</th>\n",
       "      <th>High</th>\n",
       "      <th>Low</th>\n",
       "      <th>Close</th>\n",
       "      <th>Volume</th>\n",
       "      <th>Ex-Dividend</th>\n",
       "      <th>Split Ratio</th>\n",
       "      <th>Adj. Open</th>\n",
       "      <th>Adj. High</th>\n",
       "      <th>Adj. Low</th>\n",
       "      <th>Adj. Close</th>\n",
       "      <th>Adj. Volume</th>\n",
       "    </tr>\n",
       "    <tr>\n",
       "      <th>Date</th>\n",
       "      <th></th>\n",
       "      <th></th>\n",
       "      <th></th>\n",
       "      <th></th>\n",
       "      <th></th>\n",
       "      <th></th>\n",
       "      <th></th>\n",
       "      <th></th>\n",
       "      <th></th>\n",
       "      <th></th>\n",
       "      <th></th>\n",
       "      <th></th>\n",
       "    </tr>\n",
       "  </thead>\n",
       "  <tbody>\n",
       "    <tr>\n",
       "      <th>2017-10-27</th>\n",
       "      <td>174.15</td>\n",
       "      <td>178.210</td>\n",
       "      <td>173.90</td>\n",
       "      <td>177.88</td>\n",
       "      <td>29867490.0</td>\n",
       "      <td>0.0</td>\n",
       "      <td>1.0</td>\n",
       "      <td>174.15</td>\n",
       "      <td>178.210</td>\n",
       "      <td>173.90</td>\n",
       "      <td>177.88</td>\n",
       "      <td>29867490.0</td>\n",
       "    </tr>\n",
       "    <tr>\n",
       "      <th>2017-10-26</th>\n",
       "      <td>171.38</td>\n",
       "      <td>172.285</td>\n",
       "      <td>170.39</td>\n",
       "      <td>170.63</td>\n",
       "      <td>10932929.0</td>\n",
       "      <td>0.0</td>\n",
       "      <td>1.0</td>\n",
       "      <td>171.38</td>\n",
       "      <td>172.285</td>\n",
       "      <td>170.39</td>\n",
       "      <td>170.63</td>\n",
       "      <td>10932929.0</td>\n",
       "    </tr>\n",
       "    <tr>\n",
       "      <th>2017-10-25</th>\n",
       "      <td>171.90</td>\n",
       "      <td>172.250</td>\n",
       "      <td>168.89</td>\n",
       "      <td>170.60</td>\n",
       "      <td>15095603.0</td>\n",
       "      <td>0.0</td>\n",
       "      <td>1.0</td>\n",
       "      <td>171.90</td>\n",
       "      <td>172.250</td>\n",
       "      <td>168.89</td>\n",
       "      <td>170.60</td>\n",
       "      <td>15095603.0</td>\n",
       "    </tr>\n",
       "    <tr>\n",
       "      <th>2017-10-24</th>\n",
       "      <td>172.30</td>\n",
       "      <td>173.240</td>\n",
       "      <td>171.50</td>\n",
       "      <td>171.80</td>\n",
       "      <td>11629341.0</td>\n",
       "      <td>0.0</td>\n",
       "      <td>1.0</td>\n",
       "      <td>172.30</td>\n",
       "      <td>173.240</td>\n",
       "      <td>171.50</td>\n",
       "      <td>171.80</td>\n",
       "      <td>11629341.0</td>\n",
       "    </tr>\n",
       "    <tr>\n",
       "      <th>2017-10-23</th>\n",
       "      <td>175.20</td>\n",
       "      <td>175.340</td>\n",
       "      <td>171.25</td>\n",
       "      <td>171.27</td>\n",
       "      <td>13622072.0</td>\n",
       "      <td>0.0</td>\n",
       "      <td>1.0</td>\n",
       "      <td>175.20</td>\n",
       "      <td>175.340</td>\n",
       "      <td>171.25</td>\n",
       "      <td>171.27</td>\n",
       "      <td>13622072.0</td>\n",
       "    </tr>\n",
       "  </tbody>\n",
       "</table>\n",
       "</div>"
      ],
      "text/plain": [
       "              Open     High     Low   Close      Volume  Ex-Dividend  \\\n",
       "Date                                                                   \n",
       "2017-10-27  174.15  178.210  173.90  177.88  29867490.0          0.0   \n",
       "2017-10-26  171.38  172.285  170.39  170.63  10932929.0          0.0   \n",
       "2017-10-25  171.90  172.250  168.89  170.60  15095603.0          0.0   \n",
       "2017-10-24  172.30  173.240  171.50  171.80  11629341.0          0.0   \n",
       "2017-10-23  175.20  175.340  171.25  171.27  13622072.0          0.0   \n",
       "\n",
       "            Split Ratio  Adj. Open  Adj. High  Adj. Low  Adj. Close  \\\n",
       "Date                                                                  \n",
       "2017-10-27          1.0     174.15    178.210    173.90      177.88   \n",
       "2017-10-26          1.0     171.38    172.285    170.39      170.63   \n",
       "2017-10-25          1.0     171.90    172.250    168.89      170.60   \n",
       "2017-10-24          1.0     172.30    173.240    171.50      171.80   \n",
       "2017-10-23          1.0     175.20    175.340    171.25      171.27   \n",
       "\n",
       "            Adj. Volume  \n",
       "Date                     \n",
       "2017-10-27   29867490.0  \n",
       "2017-10-26   10932929.0  \n",
       "2017-10-25   15095603.0  \n",
       "2017-10-24   11629341.0  \n",
       "2017-10-23   13622072.0  "
      ]
     },
     "execution_count": 60,
     "metadata": {},
     "output_type": "execute_result"
    }
   ],
   "source": [
    "df_with_date_index.head()"
   ]
  },
  {
   "cell_type": "code",
   "execution_count": 61,
   "metadata": {
    "collapsed": true
   },
   "outputs": [],
   "source": [
    "df_with_date_index = df_with_date_index.sort_index()"
   ]
  },
  {
   "cell_type": "code",
   "execution_count": 62,
   "metadata": {},
   "outputs": [
    {
     "data": {
      "text/plain": [
       "<matplotlib.axes._subplots.AxesSubplot at 0xef4fbf6a90>"
      ]
     },
     "execution_count": 62,
     "metadata": {},
     "output_type": "execute_result"
    }
   ],
   "source": [
    "df_with_date_index['Adj. Close'].plot()"
   ]
  },
  {
   "cell_type": "code",
   "execution_count": 63,
   "metadata": {},
   "outputs": [
    {
     "data": {
      "image/png": "[encoded data removed]",
      "text/plain": [
       "<matplotlib.figure.Figure at 0xef4fd910f0>"
      ]
     },
     "metadata": {},
     "output_type": "display_data"
    }
   ],
   "source": [
    "plt.show()"
   ]
  },
  {
   "cell_type": "code",
   "execution_count": 64,
   "metadata": {
    "collapsed": true
   },
   "outputs": [],
   "source": [
    "df_with_date_index_1 = data_frame.set_index(\"Date\").sort_index()"
   ]
  },
  {
   "cell_type": "code",
   "execution_count": 65,
   "metadata": {},
   "outputs": [
    {
     "data": {
      "text/html": [
       "<div>\n",
       "<style>\n",
       "    .dataframe thead tr:only-child th {\n",
       "        text-align: right;\n",
       "    }\n",
       "\n",
       "    .dataframe thead th {\n",
       "        text-align: left;\n",
       "    }\n",
       "\n",
       "    .dataframe tbody tr th {\n",
       "        vertical-align: top;\n",
       "    }\n",
       "</style>\n",
       "<table border=\"1\" class=\"dataframe\">\n",
       "  <thead>\n",
       "    <tr style=\"text-align: right;\">\n",
       "      <th></th>\n",
       "      <th>Open</th>\n",
       "      <th>High</th>\n",
       "      <th>Low</th>\n",
       "      <th>Close</th>\n",
       "      <th>Volume</th>\n",
       "      <th>Ex-Dividend</th>\n",
       "      <th>Split Ratio</th>\n",
       "      <th>Adj. Open</th>\n",
       "      <th>Adj. High</th>\n",
       "      <th>Adj. Low</th>\n",
       "      <th>Adj. Close</th>\n",
       "      <th>Adj. Volume</th>\n",
       "    </tr>\n",
       "    <tr>\n",
       "      <th>Date</th>\n",
       "      <th></th>\n",
       "      <th></th>\n",
       "      <th></th>\n",
       "      <th></th>\n",
       "      <th></th>\n",
       "      <th></th>\n",
       "      <th></th>\n",
       "      <th></th>\n",
       "      <th></th>\n",
       "      <th></th>\n",
       "      <th></th>\n",
       "      <th></th>\n",
       "    </tr>\n",
       "  </thead>\n",
       "  <tbody>\n",
       "    <tr>\n",
       "      <th>2012-05-18</th>\n",
       "      <td>42.05</td>\n",
       "      <td>45.00</td>\n",
       "      <td>38.00</td>\n",
       "      <td>38.2318</td>\n",
       "      <td>573576400.0</td>\n",
       "      <td>0.0</td>\n",
       "      <td>1.0</td>\n",
       "      <td>42.05</td>\n",
       "      <td>45.00</td>\n",
       "      <td>38.00</td>\n",
       "      <td>38.2318</td>\n",
       "      <td>573576400.0</td>\n",
       "    </tr>\n",
       "    <tr>\n",
       "      <th>2012-05-21</th>\n",
       "      <td>36.53</td>\n",
       "      <td>36.66</td>\n",
       "      <td>33.00</td>\n",
       "      <td>34.0300</td>\n",
       "      <td>168192700.0</td>\n",
       "      <td>0.0</td>\n",
       "      <td>1.0</td>\n",
       "      <td>36.53</td>\n",
       "      <td>36.66</td>\n",
       "      <td>33.00</td>\n",
       "      <td>34.0300</td>\n",
       "      <td>168192700.0</td>\n",
       "    </tr>\n",
       "    <tr>\n",
       "      <th>2012-05-22</th>\n",
       "      <td>32.61</td>\n",
       "      <td>33.59</td>\n",
       "      <td>30.94</td>\n",
       "      <td>31.0000</td>\n",
       "      <td>101786600.0</td>\n",
       "      <td>0.0</td>\n",
       "      <td>1.0</td>\n",
       "      <td>32.61</td>\n",
       "      <td>33.59</td>\n",
       "      <td>30.94</td>\n",
       "      <td>31.0000</td>\n",
       "      <td>101786600.0</td>\n",
       "    </tr>\n",
       "    <tr>\n",
       "      <th>2012-05-23</th>\n",
       "      <td>31.37</td>\n",
       "      <td>32.50</td>\n",
       "      <td>31.36</td>\n",
       "      <td>32.0000</td>\n",
       "      <td>73600000.0</td>\n",
       "      <td>0.0</td>\n",
       "      <td>1.0</td>\n",
       "      <td>31.37</td>\n",
       "      <td>32.50</td>\n",
       "      <td>31.36</td>\n",
       "      <td>32.0000</td>\n",
       "      <td>73600000.0</td>\n",
       "    </tr>\n",
       "    <tr>\n",
       "      <th>2012-05-24</th>\n",
       "      <td>32.95</td>\n",
       "      <td>33.21</td>\n",
       "      <td>31.77</td>\n",
       "      <td>33.0300</td>\n",
       "      <td>50237200.0</td>\n",
       "      <td>0.0</td>\n",
       "      <td>1.0</td>\n",
       "      <td>32.95</td>\n",
       "      <td>33.21</td>\n",
       "      <td>31.77</td>\n",
       "      <td>33.0300</td>\n",
       "      <td>50237200.0</td>\n",
       "    </tr>\n",
       "  </tbody>\n",
       "</table>\n",
       "</div>"
      ],
      "text/plain": [
       "             Open   High    Low    Close       Volume  Ex-Dividend  \\\n",
       "Date                                                                 \n",
       "2012-05-18  42.05  45.00  38.00  38.2318  573576400.0          0.0   \n",
       "2012-05-21  36.53  36.66  33.00  34.0300  168192700.0          0.0   \n",
       "2012-05-22  32.61  33.59  30.94  31.0000  101786600.0          0.0   \n",
       "2012-05-23  31.37  32.50  31.36  32.0000   73600000.0          0.0   \n",
       "2012-05-24  32.95  33.21  31.77  33.0300   50237200.0          0.0   \n",
       "\n",
       "            Split Ratio  Adj. Open  Adj. High  Adj. Low  Adj. Close  \\\n",
       "Date                                                                  \n",
       "2012-05-18          1.0      42.05      45.00     38.00     38.2318   \n",
       "2012-05-21          1.0      36.53      36.66     33.00     34.0300   \n",
       "2012-05-22          1.0      32.61      33.59     30.94     31.0000   \n",
       "2012-05-23          1.0      31.37      32.50     31.36     32.0000   \n",
       "2012-05-24          1.0      32.95      33.21     31.77     33.0300   \n",
       "\n",
       "            Adj. Volume  \n",
       "Date                     \n",
       "2012-05-18  573576400.0  \n",
       "2012-05-21  168192700.0  \n",
       "2012-05-22  101786600.0  \n",
       "2012-05-23   73600000.0  \n",
       "2012-05-24   50237200.0  "
      ]
     },
     "execution_count": 65,
     "metadata": {},
     "output_type": "execute_result"
    }
   ],
   "source": [
    "df_with_date_index_1.head()"
   ]
  },
  {
   "cell_type": "code",
   "execution_count": 66,
   "metadata": {},
   "outputs": [
    {
     "data": {
      "text/plain": [
       "<matplotlib.axes._subplots.AxesSubplot at 0xef4f081748>"
      ]
     },
     "execution_count": 66,
     "metadata": {},
     "output_type": "execute_result"
    }
   ],
   "source": [
    "df_with_date_index_1[\"Adj. Close\"].plot()"
   ]
  },
  {
   "cell_type": "code",
   "execution_count": 67,
   "metadata": {},
   "outputs": [
    {
     "data": {
      "image/png": "[encoded data removed]",
      "text/plain": [
       "<matplotlib.figure.Figure at 0xef4f0b34a8>"
      ]
     },
     "metadata": {},
     "output_type": "display_data"
    }
   ],
   "source": [
    "plt.show()"
   ]
  },
  {
   "cell_type": "code",
   "execution_count": 68,
   "metadata": {},
   "outputs": [
    {
     "data": {
      "text/plain": [
       "Index(['2012-05-18', '2012-05-21', '2012-05-22', '2012-05-23', '2012-05-24',\n",
       "       '2012-05-25', '2012-05-29', '2012-05-30', '2012-05-31', '2012-06-01',\n",
       "       ...\n",
       "       '2017-10-16', '2017-10-17', '2017-10-18', '2017-10-19', '2017-10-20',\n",
       "       '2017-10-23', '2017-10-24', '2017-10-25', '2017-10-26', '2017-10-27'],\n",
       "      dtype='object', name='Date', length=1371)"
      ]
     },
     "execution_count": 68,
     "metadata": {},
     "output_type": "execute_result"
    }
   ],
   "source": [
    "df_with_date_index_1.index"
   ]
  },
  {
   "cell_type": "code",
   "execution_count": 69,
   "metadata": {
    "collapsed": true
   },
   "outputs": [],
   "source": [
    "df_with_date_index_1.index = pd.to_datetime(df_with_date_index_1.index)"
   ]
  },
  {
   "cell_type": "code",
   "execution_count": 70,
   "metadata": {},
   "outputs": [
    {
     "data": {
      "text/plain": [
       "DatetimeIndex(['2012-05-18', '2012-05-21', '2012-05-22', '2012-05-23',\n",
       "               '2012-05-24', '2012-05-25', '2012-05-29', '2012-05-30',\n",
       "               '2012-05-31', '2012-06-01',\n",
       "               ...\n",
       "               '2017-10-16', '2017-10-17', '2017-10-18', '2017-10-19',\n",
       "               '2017-10-20', '2017-10-23', '2017-10-24', '2017-10-25',\n",
       "               '2017-10-26', '2017-10-27'],\n",
       "              dtype='datetime64[ns]', name='Date', length=1371, freq=None)"
      ]
     },
     "execution_count": 70,
     "metadata": {},
     "output_type": "execute_result"
    }
   ],
   "source": [
    "df_with_date_index_1.index"
   ]
  },
  {
   "cell_type": "code",
   "execution_count": 71,
   "metadata": {},
   "outputs": [
    {
     "data": {
      "text/plain": [
       "<matplotlib.axes._subplots.AxesSubplot at 0xef4f138978>"
      ]
     },
     "execution_count": 71,
     "metadata": {},
     "output_type": "execute_result"
    }
   ],
   "source": [
    "df_with_date_index_1[\"Adj. Close\"].plot()"
   ]
  },
  {
   "cell_type": "code",
   "execution_count": 72,
   "metadata": {},
   "outputs": [
    {
     "data": {
      "image/png": "[encoded data removed]",
      "text/plain": [
       "<matplotlib.figure.Figure at 0xef4f15dcc0>"
      ]
     },
     "metadata": {},
     "output_type": "display_data"
    }
   ],
   "source": [
    "plt.show()"
   ]
  },
  {
   "cell_type": "markdown",
   "metadata": {},
   "source": [
    "## Handling Multi-stock Data"
   ]
  },
  {
   "cell_type": "code",
   "execution_count": 73,
   "metadata": {
    "collapsed": true
   },
   "outputs": [],
   "source": [
    "date_range = pd.date_range(\"2014-01-01\", \"2014-12-31\")"
   ]
  },
  {
   "cell_type": "code",
   "execution_count": 74,
   "metadata": {},
   "outputs": [
    {
     "data": {
      "text/plain": [
       "DatetimeIndex(['2014-01-01', '2014-01-02', '2014-01-03', '2014-01-04',\n",
       "               '2014-01-05', '2014-01-06', '2014-01-07', '2014-01-08',\n",
       "               '2014-01-09', '2014-01-10',\n",
       "               ...\n",
       "               '2014-12-22', '2014-12-23', '2014-12-24', '2014-12-25',\n",
       "               '2014-12-26', '2014-12-27', '2014-12-28', '2014-12-29',\n",
       "               '2014-12-30', '2014-12-31'],\n",
       "              dtype='datetime64[ns]', length=365, freq='D')"
      ]
     },
     "execution_count": 74,
     "metadata": {},
     "output_type": "execute_result"
    }
   ],
   "source": [
    "date_range"
   ]
  },
  {
   "cell_type": "code",
   "execution_count": 75,
   "metadata": {
    "collapsed": true
   },
   "outputs": [],
   "source": [
    "df_multi_stock = pd.DataFrame(index=date_range)"
   ]
  },
  {
   "cell_type": "code",
   "execution_count": 76,
   "metadata": {
    "collapsed": true
   },
   "outputs": [],
   "source": [
    "df_fb = pd.read_csv(\"stock/WIKI-FB.csv\", index_col=\"Date\", parse_dates=True, usecols=[\"Date\",\"Adj. Close\"])"
   ]
  },
  {
   "cell_type": "code",
   "execution_count": 77,
   "metadata": {
    "collapsed": true
   },
   "outputs": [],
   "source": [
    "df_multi_stock = df_multi_stock.join(df_fb)"
   ]
  },
  {
   "cell_type": "code",
   "execution_count": 78,
   "metadata": {},
   "outputs": [
    {
     "data": {
      "text/html": [
       "<div>\n",
       "<style>\n",
       "    .dataframe thead tr:only-child th {\n",
       "        text-align: right;\n",
       "    }\n",
       "\n",
       "    .dataframe thead th {\n",
       "        text-align: left;\n",
       "    }\n",
       "\n",
       "    .dataframe tbody tr th {\n",
       "        vertical-align: top;\n",
       "    }\n",
       "</style>\n",
       "<table border=\"1\" class=\"dataframe\">\n",
       "  <thead>\n",
       "    <tr style=\"text-align: right;\">\n",
       "      <th></th>\n",
       "      <th>Adj. Close</th>\n",
       "    </tr>\n",
       "  </thead>\n",
       "  <tbody>\n",
       "    <tr>\n",
       "      <th>2014-01-01</th>\n",
       "      <td>NaN</td>\n",
       "    </tr>\n",
       "    <tr>\n",
       "      <th>2014-01-02</th>\n",
       "      <td>54.710</td>\n",
       "    </tr>\n",
       "    <tr>\n",
       "      <th>2014-01-03</th>\n",
       "      <td>54.557</td>\n",
       "    </tr>\n",
       "    <tr>\n",
       "      <th>2014-01-04</th>\n",
       "      <td>NaN</td>\n",
       "    </tr>\n",
       "    <tr>\n",
       "      <th>2014-01-05</th>\n",
       "      <td>NaN</td>\n",
       "    </tr>\n",
       "  </tbody>\n",
       "</table>\n",
       "</div>"
      ],
      "text/plain": [
       "            Adj. Close\n",
       "2014-01-01         NaN\n",
       "2014-01-02      54.710\n",
       "2014-01-03      54.557\n",
       "2014-01-04         NaN\n",
       "2014-01-05         NaN"
      ]
     },
     "execution_count": 78,
     "metadata": {},
     "output_type": "execute_result"
    }
   ],
   "source": [
    "df_multi_stock.head()"
   ]
  },
  {
   "cell_type": "code",
   "execution_count": 79,
   "metadata": {
    "collapsed": true
   },
   "outputs": [],
   "source": [
    "df_multi_stock = pd.DataFrame(index=date_range)"
   ]
  },
  {
   "cell_type": "code",
   "execution_count": 80,
   "metadata": {
    "collapsed": true
   },
   "outputs": [],
   "source": [
    "df_multi_stock = df_multi_stock.join(df_fb, how=\"inner\")"
   ]
  },
  {
   "cell_type": "code",
   "execution_count": 81,
   "metadata": {},
   "outputs": [
    {
     "data": {
      "text/html": [
       "<div>\n",
       "<style>\n",
       "    .dataframe thead tr:only-child th {\n",
       "        text-align: right;\n",
       "    }\n",
       "\n",
       "    .dataframe thead th {\n",
       "        text-align: left;\n",
       "    }\n",
       "\n",
       "    .dataframe tbody tr th {\n",
       "        vertical-align: top;\n",
       "    }\n",
       "</style>\n",
       "<table border=\"1\" class=\"dataframe\">\n",
       "  <thead>\n",
       "    <tr style=\"text-align: right;\">\n",
       "      <th></th>\n",
       "      <th>Adj. Close</th>\n",
       "    </tr>\n",
       "  </thead>\n",
       "  <tbody>\n",
       "    <tr>\n",
       "      <th>2014-01-02</th>\n",
       "      <td>54.710</td>\n",
       "    </tr>\n",
       "    <tr>\n",
       "      <th>2014-01-03</th>\n",
       "      <td>54.557</td>\n",
       "    </tr>\n",
       "    <tr>\n",
       "      <th>2014-01-06</th>\n",
       "      <td>57.200</td>\n",
       "    </tr>\n",
       "    <tr>\n",
       "      <th>2014-01-07</th>\n",
       "      <td>57.920</td>\n",
       "    </tr>\n",
       "    <tr>\n",
       "      <th>2014-01-08</th>\n",
       "      <td>58.230</td>\n",
       "    </tr>\n",
       "  </tbody>\n",
       "</table>\n",
       "</div>"
      ],
      "text/plain": [
       "            Adj. Close\n",
       "2014-01-02      54.710\n",
       "2014-01-03      54.557\n",
       "2014-01-06      57.200\n",
       "2014-01-07      57.920\n",
       "2014-01-08      58.230"
      ]
     },
     "execution_count": 81,
     "metadata": {},
     "output_type": "execute_result"
    }
   ],
   "source": [
    "df_multi_stock.head()"
   ]
  },
  {
   "cell_type": "code",
   "execution_count": 82,
   "metadata": {
    "collapsed": true
   },
   "outputs": [],
   "source": [
    "df_multi_stock = df_multi_stock.rename(columns={'Adj. Close': \"FB\"})"
   ]
  },
  {
   "cell_type": "code",
   "execution_count": 83,
   "metadata": {},
   "outputs": [
    {
     "data": {
      "text/html": [
       "<div>\n",
       "<style>\n",
       "    .dataframe thead tr:only-child th {\n",
       "        text-align: right;\n",
       "    }\n",
       "\n",
       "    .dataframe thead th {\n",
       "        text-align: left;\n",
       "    }\n",
       "\n",
       "    .dataframe tbody tr th {\n",
       "        vertical-align: top;\n",
       "    }\n",
       "</style>\n",
       "<table border=\"1\" class=\"dataframe\">\n",
       "  <thead>\n",
       "    <tr style=\"text-align: right;\">\n",
       "      <th></th>\n",
       "      <th>FB</th>\n",
       "    </tr>\n",
       "  </thead>\n",
       "  <tbody>\n",
       "    <tr>\n",
       "      <th>2014-01-02</th>\n",
       "      <td>54.710</td>\n",
       "    </tr>\n",
       "    <tr>\n",
       "      <th>2014-01-03</th>\n",
       "      <td>54.557</td>\n",
       "    </tr>\n",
       "    <tr>\n",
       "      <th>2014-01-06</th>\n",
       "      <td>57.200</td>\n",
       "    </tr>\n",
       "    <tr>\n",
       "      <th>2014-01-07</th>\n",
       "      <td>57.920</td>\n",
       "    </tr>\n",
       "    <tr>\n",
       "      <th>2014-01-08</th>\n",
       "      <td>58.230</td>\n",
       "    </tr>\n",
       "  </tbody>\n",
       "</table>\n",
       "</div>"
      ],
      "text/plain": [
       "                FB\n",
       "2014-01-02  54.710\n",
       "2014-01-03  54.557\n",
       "2014-01-06  57.200\n",
       "2014-01-07  57.920\n",
       "2014-01-08  58.230"
      ]
     },
     "execution_count": 83,
     "metadata": {},
     "output_type": "execute_result"
    }
   ],
   "source": [
    "df_multi_stock.head()"
   ]
  },
  {
   "cell_type": "code",
   "execution_count": 84,
   "metadata": {
    "collapsed": true
   },
   "outputs": [],
   "source": [
    "df_aapl = pd.read_csv(\"stock/WIKI-AAPL.csv\", index_col=\"Date\", parse_dates=True, usecols=[\"Date\",\"Adj. Close\"])"
   ]
  },
  {
   "cell_type": "code",
   "execution_count": 85,
   "metadata": {
    "collapsed": true
   },
   "outputs": [],
   "source": [
    "df_multi_stock = df_multi_stock.join(df_aapl, how=\"inner\")"
   ]
  },
  {
   "cell_type": "code",
   "execution_count": 86,
   "metadata": {
    "collapsed": true
   },
   "outputs": [],
   "source": [
    "df_multi_stock = df_multi_stock.rename(columns={'Adj. Close': \"AAPL\"})"
   ]
  },
  {
   "cell_type": "code",
   "execution_count": 87,
   "metadata": {},
   "outputs": [
    {
     "data": {
      "text/html": [
       "<div>\n",
       "<style>\n",
       "    .dataframe thead tr:only-child th {\n",
       "        text-align: right;\n",
       "    }\n",
       "\n",
       "    .dataframe thead th {\n",
       "        text-align: left;\n",
       "    }\n",
       "\n",
       "    .dataframe tbody tr th {\n",
       "        vertical-align: top;\n",
       "    }\n",
       "</style>\n",
       "<table border=\"1\" class=\"dataframe\">\n",
       "  <thead>\n",
       "    <tr style=\"text-align: right;\">\n",
       "      <th></th>\n",
       "      <th>FB</th>\n",
       "      <th>AAPL</th>\n",
       "    </tr>\n",
       "  </thead>\n",
       "  <tbody>\n",
       "    <tr>\n",
       "      <th>2014-01-02</th>\n",
       "      <td>54.710</td>\n",
       "      <td>73.523423</td>\n",
       "    </tr>\n",
       "    <tr>\n",
       "      <th>2014-01-03</th>\n",
       "      <td>54.557</td>\n",
       "      <td>71.908415</td>\n",
       "    </tr>\n",
       "    <tr>\n",
       "      <th>2014-01-06</th>\n",
       "      <td>57.200</td>\n",
       "      <td>72.300536</td>\n",
       "    </tr>\n",
       "    <tr>\n",
       "      <th>2014-01-07</th>\n",
       "      <td>57.920</td>\n",
       "      <td>71.783135</td>\n",
       "    </tr>\n",
       "    <tr>\n",
       "      <th>2014-01-08</th>\n",
       "      <td>58.230</td>\n",
       "      <td>72.238063</td>\n",
       "    </tr>\n",
       "  </tbody>\n",
       "</table>\n",
       "</div>"
      ],
      "text/plain": [
       "                FB       AAPL\n",
       "2014-01-02  54.710  73.523423\n",
       "2014-01-03  54.557  71.908415\n",
       "2014-01-06  57.200  72.300536\n",
       "2014-01-07  57.920  71.783135\n",
       "2014-01-08  58.230  72.238063"
      ]
     },
     "execution_count": 87,
     "metadata": {},
     "output_type": "execute_result"
    }
   ],
   "source": [
    "df_multi_stock.head()"
   ]
  },
  {
   "cell_type": "code",
   "execution_count": 88,
   "metadata": {},
   "outputs": [
    {
     "data": {
      "text/plain": [
       "<matplotlib.axes._subplots.AxesSubplot at 0xef4f1b1828>"
      ]
     },
     "execution_count": 88,
     "metadata": {},
     "output_type": "execute_result"
    }
   ],
   "source": [
    "df_multi_stock[[\"FB\", \"AAPL\"]].plot()"
   ]
  },
  {
   "cell_type": "code",
   "execution_count": 89,
   "metadata": {},
   "outputs": [
    {
     "data": {
      "image/png": "[encoded data removed]",
      "text/plain": [
       "<matplotlib.figure.Figure at 0xef4f1d2e48>"
      ]
     },
     "metadata": {},
     "output_type": "display_data"
    }
   ],
   "source": [
    "plt.show()"
   ]
  },
  {
   "cell_type": "code",
   "execution_count": null,
   "metadata": {
    "collapsed": true
   },
   "outputs": [],
   "source": []
  }
 ],
 "metadata": {
  "kernelspec": {
   "display_name": "Python 3",
   "language": "python",
   "name": "python3"
  },
  "language_info": {
   "codemirror_mode": {
    "name": "ipython",
    "version": 3
   },
   "file_extension": ".py",
   "mimetype": "text/x-python",
   "name": "python",
   "nbconvert_exporter": "python",
   "pygments_lexer": "ipython3",
   "version": "3.6.0"
  }
 },
 "nbformat": 4,
 "nbformat_minor": 2
}
