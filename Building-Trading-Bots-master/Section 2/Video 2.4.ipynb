{
 "cells": [
  {
   "cell_type": "code",
   "execution_count": 1,
   "metadata": {
    "collapsed": true
   },
   "outputs": [],
   "source": [
    "import quandl\n",
    "import numpy as np\n",
    "import matplotlib.pyplot as plt\n",
    "import pandas as pd"
   ]
  },
  {
   "cell_type": "code",
   "execution_count": 2,
   "metadata": {
    "collapsed": true
   },
   "outputs": [],
   "source": [
    "amzn = quandl.get(\"WIKI/AMZN\", start_date=\"2017-01-01\", end_date=\"2018-01-01\")"
   ]
  },
  {
   "cell_type": "code",
   "execution_count": 3,
   "metadata": {},
   "outputs": [
    {
     "data": {
      "text/html": [
       "<div>\n",
       "<style>\n",
       "    .dataframe thead tr:only-child th {\n",
       "        text-align: right;\n",
       "    }\n",
       "\n",
       "    .dataframe thead th {\n",
       "        text-align: left;\n",
       "    }\n",
       "\n",
       "    .dataframe tbody tr th {\n",
       "        vertical-align: top;\n",
       "    }\n",
       "</style>\n",
       "<table border=\"1\" class=\"dataframe\">\n",
       "  <thead>\n",
       "    <tr style=\"text-align: right;\">\n",
       "      <th></th>\n",
       "      <th>Open</th>\n",
       "      <th>High</th>\n",
       "      <th>Low</th>\n",
       "      <th>Close</th>\n",
       "      <th>Volume</th>\n",
       "      <th>Ex-Dividend</th>\n",
       "      <th>Split Ratio</th>\n",
       "      <th>Adj. Open</th>\n",
       "      <th>Adj. High</th>\n",
       "      <th>Adj. Low</th>\n",
       "      <th>Adj. Close</th>\n",
       "      <th>Adj. Volume</th>\n",
       "    </tr>\n",
       "    <tr>\n",
       "      <th>Date</th>\n",
       "      <th></th>\n",
       "      <th></th>\n",
       "      <th></th>\n",
       "      <th></th>\n",
       "      <th></th>\n",
       "      <th></th>\n",
       "      <th></th>\n",
       "      <th></th>\n",
       "      <th></th>\n",
       "      <th></th>\n",
       "      <th></th>\n",
       "      <th></th>\n",
       "    </tr>\n",
       "  </thead>\n",
       "  <tbody>\n",
       "    <tr>\n",
       "      <th>2017-01-03</th>\n",
       "      <td>757.92</td>\n",
       "      <td>758.7595</td>\n",
       "      <td>747.7000</td>\n",
       "      <td>753.67</td>\n",
       "      <td>3521066.0</td>\n",
       "      <td>0.0</td>\n",
       "      <td>1.0</td>\n",
       "      <td>757.92</td>\n",
       "      <td>758.7595</td>\n",
       "      <td>747.7000</td>\n",
       "      <td>753.67</td>\n",
       "      <td>3521066.0</td>\n",
       "    </tr>\n",
       "    <tr>\n",
       "      <th>2017-01-04</th>\n",
       "      <td>758.39</td>\n",
       "      <td>759.6800</td>\n",
       "      <td>754.2000</td>\n",
       "      <td>757.18</td>\n",
       "      <td>2510526.0</td>\n",
       "      <td>0.0</td>\n",
       "      <td>1.0</td>\n",
       "      <td>758.39</td>\n",
       "      <td>759.6800</td>\n",
       "      <td>754.2000</td>\n",
       "      <td>757.18</td>\n",
       "      <td>2510526.0</td>\n",
       "    </tr>\n",
       "    <tr>\n",
       "      <th>2017-01-05</th>\n",
       "      <td>761.55</td>\n",
       "      <td>782.3999</td>\n",
       "      <td>760.2557</td>\n",
       "      <td>780.45</td>\n",
       "      <td>5830068.0</td>\n",
       "      <td>0.0</td>\n",
       "      <td>1.0</td>\n",
       "      <td>761.55</td>\n",
       "      <td>782.3999</td>\n",
       "      <td>760.2557</td>\n",
       "      <td>780.45</td>\n",
       "      <td>5830068.0</td>\n",
       "    </tr>\n",
       "    <tr>\n",
       "      <th>2017-01-06</th>\n",
       "      <td>782.36</td>\n",
       "      <td>799.4400</td>\n",
       "      <td>778.4800</td>\n",
       "      <td>795.99</td>\n",
       "      <td>5986234.0</td>\n",
       "      <td>0.0</td>\n",
       "      <td>1.0</td>\n",
       "      <td>782.36</td>\n",
       "      <td>799.4400</td>\n",
       "      <td>778.4800</td>\n",
       "      <td>795.99</td>\n",
       "      <td>5986234.0</td>\n",
       "    </tr>\n",
       "    <tr>\n",
       "      <th>2017-01-09</th>\n",
       "      <td>798.00</td>\n",
       "      <td>801.7742</td>\n",
       "      <td>791.7700</td>\n",
       "      <td>796.92</td>\n",
       "      <td>3446109.0</td>\n",
       "      <td>0.0</td>\n",
       "      <td>1.0</td>\n",
       "      <td>798.00</td>\n",
       "      <td>801.7742</td>\n",
       "      <td>791.7700</td>\n",
       "      <td>796.92</td>\n",
       "      <td>3446109.0</td>\n",
       "    </tr>\n",
       "  </tbody>\n",
       "</table>\n",
       "</div>"
      ],
      "text/plain": [
       "              Open      High       Low   Close     Volume  Ex-Dividend  \\\n",
       "Date                                                                     \n",
       "2017-01-03  757.92  758.7595  747.7000  753.67  3521066.0          0.0   \n",
       "2017-01-04  758.39  759.6800  754.2000  757.18  2510526.0          0.0   \n",
       "2017-01-05  761.55  782.3999  760.2557  780.45  5830068.0          0.0   \n",
       "2017-01-06  782.36  799.4400  778.4800  795.99  5986234.0          0.0   \n",
       "2017-01-09  798.00  801.7742  791.7700  796.92  3446109.0          0.0   \n",
       "\n",
       "            Split Ratio  Adj. Open  Adj. High  Adj. Low  Adj. Close  \\\n",
       "Date                                                                  \n",
       "2017-01-03          1.0     757.92   758.7595  747.7000      753.67   \n",
       "2017-01-04          1.0     758.39   759.6800  754.2000      757.18   \n",
       "2017-01-05          1.0     761.55   782.3999  760.2557      780.45   \n",
       "2017-01-06          1.0     782.36   799.4400  778.4800      795.99   \n",
       "2017-01-09          1.0     798.00   801.7742  791.7700      796.92   \n",
       "\n",
       "            Adj. Volume  \n",
       "Date                     \n",
       "2017-01-03    3521066.0  \n",
       "2017-01-04    2510526.0  \n",
       "2017-01-05    5830068.0  \n",
       "2017-01-06    5986234.0  \n",
       "2017-01-09    3446109.0  "
      ]
     },
     "execution_count": 3,
     "metadata": {},
     "output_type": "execute_result"
    }
   ],
   "source": [
    "amzn.head()"
   ]
  },
  {
   "cell_type": "code",
   "execution_count": 4,
   "metadata": {
    "collapsed": true
   },
   "outputs": [],
   "source": [
    "short_window = 30\n",
    "long_window = 90\n",
    "signals = pd.DataFrame(index=amzn.index)\n",
    "signals['signal'] = 0.0\n",
    "signals['short_mavg'] = amzn['Close'].rolling(window=short_window, min_periods=1, center=False).mean()\n",
    "signals['long_mavg'] = amzn['Close'].rolling(window=long_window, min_periods=1, center=False).mean()\n",
    "signals['signal'][short_window:] = np.where(signals['short_mavg'][short_window:] \n",
    "                                            > signals['long_mavg'][short_window:], 1.0, 0.0) \n",
    "signals['positions'] = signals['signal'].diff()"
   ]
  },
  {
   "cell_type": "code",
   "execution_count": 5,
   "metadata": {
    "collapsed": true
   },
   "outputs": [],
   "source": [
    "initial_capital= float(50000.0)\n",
    "positions = pd.DataFrame(index=signals.index).fillna(0.0)\n",
    "positions['AMZN'] = 50*signals['signal']   \n",
    "portfolio = positions.multiply(amzn['Adj. Close'], axis=0)\n",
    "pos_diff = positions.diff()\n",
    "portfolio['holdings'] = (positions.multiply(amzn['Adj. Close'], axis=0)).sum(axis=1)\n",
    "portfolio['cash'] = initial_capital - (pos_diff.multiply(amzn['Adj. Close'], axis=0)).sum(axis=1).cumsum()   \n",
    "portfolio['total'] = portfolio['cash'] + portfolio['holdings']\n",
    "portfolio['returns'] = portfolio['total'].pct_change()"
   ]
  },
  {
   "cell_type": "code",
   "execution_count": 6,
   "metadata": {},
   "outputs": [
    {
     "data": {
      "image/png": "[encoded data removed]",
      "text/plain": [
       "<matplotlib.figure.Figure at 0x8995e601d0>"
      ]
     },
     "metadata": {},
     "output_type": "display_data"
    }
   ],
   "source": [
    "fig = plt.figure()\n",
    "ax1 = fig.add_subplot(111, ylabel='Portfolio value in $')\n",
    "portfolio['total'].plot(ax=ax1, lw=2.)\n",
    "ax1.plot(portfolio.loc[signals.positions == 1.0].index, \n",
    "         portfolio.total[signals.positions == 1.0],\n",
    "         '^', markersize=10, color='m')\n",
    "ax1.plot(portfolio.loc[signals.positions == -1.0].index, \n",
    "         portfolio.total[signals.positions == -1.0],\n",
    "         'v', markersize=10, color='k')\n",
    "plt.show()"
   ]
  },
  {
   "cell_type": "code",
   "execution_count": 7,
   "metadata": {},
   "outputs": [
    {
     "data": {
      "text/plain": [
       "1.4756079447373198"
      ]
     },
     "execution_count": 7,
     "metadata": {},
     "output_type": "execute_result"
    }
   ],
   "source": [
    "returns = portfolio['returns']\n",
    "np.sqrt(252) * (returns.mean() / returns.std())"
   ]
  },
  {
   "cell_type": "code",
   "execution_count": null,
   "metadata": {
    "collapsed": true
   },
   "outputs": [],
   "source": []
  }
 ],
 "metadata": {
  "kernelspec": {
   "display_name": "Python 3",
   "language": "python",
   "name": "python3"
  },
  "language_info": {
   "codemirror_mode": {
    "name": "ipython",
    "version": 3
   },
   "file_extension": ".py",
   "mimetype": "text/x-python",
   "name": "python",
   "nbconvert_exporter": "python",
   "pygments_lexer": "ipython3",
   "version": "3.6.0"
  }
 },
 "nbformat": 4,
 "nbformat_minor": 2
}
